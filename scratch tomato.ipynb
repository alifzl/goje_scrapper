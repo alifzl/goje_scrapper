{
 "cells": [
  {
   "cell_type": "code",
   "execution_count": 2,
   "metadata": {
    "collapsed": true
   },
   "outputs": [
    {
     "name": "stdout",
     "output_type": "stream",
     "text": [
      "{'Score_Rotten': '99', 'Score_Audience': '92', 'movie_scores': {'scoreboard': {'audienceBandedRatingCount': '10,000+', 'audienceCount': 22900, 'audienceCountHref': '/m/a_separation_2011/reviews?type=user&intcmp=rt-scorecard_audience-score-reviews', 'audienceRatingCopy': 'Ratings', 'audienceScore': '92', 'audienceState': 'upright', 'hasVerifiedAudienceScore': False, 'info': '2011, Drama, 2h 3m', 'rating': 'PG-13', 'title': 'A Separation', 'tomatometerCount': 179, 'tomatometerCountHref': '/m/a_separation_2011/reviews?intcmp=rt-scorecard_tomatometer-reviews', 'tomatometerScore': '99', 'tomatometerState': 'certified-fresh'}, 'modal': {'audienceScoreAll': {'averageRating': '4.3', 'bandedRatingCount': '10,000+', 'certified': False, 'likedCount': 8656, 'notLikedCount': 741, 'ratingCount': 22900, 'reviewCount': 1641, 'score': '92', 'scoreSentiment': 'POSITIVE', 'scoreType': 'ALL', 'audienceClass': 'upright'}, 'audienceScoreVerified': {'averageRating': None, 'bandedRatingCount': '0', 'certified': False, 'likedCount': None, 'notLikedCount': None, 'ratingCount': None, 'reviewCount': None, 'score': None, 'scoreSentiment': None, 'scoreType': 'VERIFIED', 'audienceClass': 'N/A'}, 'hasTomatometerScoreAll': True, 'hasTomatometerScoreTop': True, 'hasAudienceScoreAll': True, 'hasAudienceScoreVerified': False, 'tomatometerScoreAll': {'averageRating': '8.90', 'bandedRatingCount': '', 'certified': True, 'likedCount': 178, 'notLikedCount': 1, 'ratingCount': 179, 'reviewCount': 179, 'score': '99', 'scoreSentiment': 'POSITIVE', 'scoreType': '', 'tomatometerState': 'certified-fresh'}, 'tomatometerScoreTop': {'averageRating': '9.10', 'bandedRatingCount': '', 'certified': True, 'likedCount': 61, 'notLikedCount': None, 'ratingCount': 61, 'reviewCount': 61, 'score': '100', 'scoreSentiment': 'POSITIVE', 'scoreType': '', 'tomatometerState': 'certified-fresh'}}}, 'Rating': 'PG-13', 'Genre': ['drama'], 'Original Language': ['Persian'], 'Director': ['AsgharFarhadi'], 'Producer': ['AsgharFarhadi'], 'Writer': ['AsgharFarhadi'], 'Release Date (Theaters)': ['Dec30', '2011\\xa0limited'], 'Release Date (Streaming)': ['Feb12', '2014'], 'Box_Office': ['$331.7K'], 'Runtime': ['2h3m'], 'Studio': ['AsgharFarhadi'], 'info': \"When Nader (Payman Maadi), a bank employee, refuses to leave Tehran, his wife, Simin (Leila Hatami) sues for divorce in the hope that she can make a better life for their young daughter abroad. Needing someone to care for his senile father while he's at work, Nader hires Razieh (Sareh Bayat), a married woman whose chador hides her pregnancy. One day, after becoming angry with Razieh, Nader shoves her, and she has a miscarriage, leading Razieh's husband to take Nader to court.\", 'movie_qoutes': [['Termeh:', '\"If you don\\'t say a lie, why you should be careful?\"'], ['Termeh:', \"If you don't say a lie, why you should be careful?\"], ['Termeh:', \"If you didn't say a lie, why should you be careful?\"], ['Simin:', 'What did you do to her?'], ['Razieh:', '[pleading] By Imam-i-Hussein [later] by Imam-u-zaman.'], ['Nader:', \"What is wrong is wrong...\\nNo matter who says or where it's written.\"]], 'movie_main_casts': [[['Payman Maadi'], 'https://flxt.tmsimg.com/v9/AllPhotos/567924/567924_v9_ba.jpg'], [['Leila Hatami'], 'https://flxt.tmsimg.com/v9/AllPhotos/230676/230676_v9_ba.jpg'], [['Sareh Bayat'], 'https://flxt.tmsimg.com/v9/AllPhotos/627405/627405_v9_bb.jpg'], [['Shahab Hosseini'], 'https://flxt.tmsimg.com/v9/AllPhotos/321387/321387_v9_ba.jpg'], [[\"Merila Zare'i\"], 'https://flxt.tmsimg.com/v9/AllPhotos/567923/567923_v9_ab.jpg'], [['Babak Karimi'], 'https://flxt.tmsimg.com/v9/AllPhotos/475406/475406_v9_ba.jpg']], 'movie_other_casts': [[['Shirin Yazdanbakhsh'], '/assets/pizza-pie/images/poster_default_thumbnail.2ec144e61b4.jpg'], [['Sarina Farhadi'], 'https://flxt.tmsimg.com/v9/AllPhotos/627404/627404_v9_ba.jpg'], [['Ali-Asghar Shahbazi'], '/assets/pizza-pie/images/poster_default_thumbnail.2ec144e61b4.jpg'], [['Kimia Hosseini'], '/assets/pizza-pie/images/poster_default_thumbnail.2ec144e61b4.jpg'], [['Asghar Farhadi'], 'https://flxt.tmsimg.com/v9/AllPhotos/349998/349998_v9_bb.jpg'], [['Asghar Farhadi'], 'https://flxt.tmsimg.com/v9/AllPhotos/349998/349998_v9_bb.jpg'], [['Negar Eskandarfar'], '/assets/pizza-pie/images/poster_default_thumbnail.2ec144e61b4.jpg'], [['Asghar Farhadi'], 'https://flxt.tmsimg.com/v9/AllPhotos/349998/349998_v9_bb.jpg'], [['Sattar Oraki'], '/assets/pizza-pie/images/poster_default_thumbnail.2ec144e61b4.jpg'], [['Mahmoud Kalari'], 'https://flxt.tmsimg.com/v9/AllPhotos/464854/464854_v9_ba.jpg'], [['Hayedeh Safiyari'], 'https://flxt.tmsimg.com/v9/AllPhotos/627408/627408_v9_ba.jpg'], [['Keyvan Moghaddam'], '/assets/pizza-pie/images/poster_default_thumbnail.2ec144e61b4.jpg']]}\n"
     ]
    }
   ],
   "source": [
    "from goje_scrapper.goje import *\n",
    "\n",
    "movie_url = 'https://www.rottentomatoes.com/m/a_separation_2011'\n",
    "\n",
    "movie_scraper = GojeScraper(movie_url=movie_url)\n",
    "\n",
    "movie_scraper.extract_metadata()\n",
    "print(movie_scraper.metadata)"
   ]
  },
  {
   "cell_type": "code",
   "execution_count": null,
   "outputs": [],
   "source": [
    "from Goje import *\n"
   ],
   "metadata": {
    "collapsed": false,
    "pycharm": {
     "name": "#%%\n"
    }
   }
  }
 ],
 "metadata": {
  "kernelspec": {
   "display_name": "Python 3",
   "language": "python",
   "name": "python3"
  },
  "language_info": {
   "codemirror_mode": {
    "name": "ipython",
    "version": 2
   },
   "file_extension": ".py",
   "mimetype": "text/x-python",
   "name": "python",
   "nbconvert_exporter": "python",
   "pygments_lexer": "ipython2",
   "version": "2.7.6"
  }
 },
 "nbformat": 4,
 "nbformat_minor": 0
}