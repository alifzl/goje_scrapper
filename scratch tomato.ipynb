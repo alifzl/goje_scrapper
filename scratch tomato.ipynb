{
 "cells": [
  {
   "cell_type": "markdown",
   "metadata": {},
   "source": [
    "### Resolve Movie Info"
   ]
  },
  {
   "cell_type": "code",
   "execution_count": 2,
   "metadata": {
    "pycharm": {
     "name": "#%%\n"
    }
   },
   "outputs": [
    {
     "name": "stdout",
     "output_type": "stream",
     "text": [
      "{'Score_Rotten': '99', 'Score_Audience': '92', 'movie_scores': {'scoreboard': {'audienceBandedRatingCount': '10,000+', 'audienceCount': 22900, 'audienceCountHref': '/m/a_separation_2011/reviews?type=user&intcmp=rt-scorecard_audience-score-reviews', 'audienceRatingCopy': 'Ratings', 'audienceScore': '92', 'audienceState': 'upright', 'hasVerifiedAudienceScore': False, 'info': '2011, Drama, 2h 3m', 'rating': 'PG-13', 'title': 'A Separation', 'tomatometerCount': 179, 'tomatometerCountHref': '/m/a_separation_2011/reviews?intcmp=rt-scorecard_tomatometer-reviews', 'tomatometerScore': '99', 'tomatometerState': 'certified-fresh'}, 'modal': {'audienceScoreAll': {'averageRating': '4.3', 'bandedRatingCount': '10,000+', 'certified': False, 'likedCount': 8656, 'notLikedCount': 741, 'ratingCount': 22900, 'reviewCount': 1641, 'score': '92', 'scoreSentiment': 'POSITIVE', 'scoreType': 'ALL', 'audienceClass': 'upright'}, 'audienceScoreVerified': {'averageRating': None, 'bandedRatingCount': '0', 'certified': False, 'likedCount': None, 'notLikedCount': None, 'ratingCount': None, 'reviewCount': None, 'score': None, 'scoreSentiment': None, 'scoreType': 'VERIFIED', 'audienceClass': 'N/A'}, 'hasTomatometerScoreAll': True, 'hasTomatometerScoreTop': True, 'hasAudienceScoreAll': True, 'hasAudienceScoreVerified': False, 'tomatometerScoreAll': {'averageRating': '8.90', 'bandedRatingCount': '', 'certified': True, 'likedCount': 178, 'notLikedCount': 1, 'ratingCount': 179, 'reviewCount': 179, 'score': '99', 'scoreSentiment': 'POSITIVE', 'scoreType': '', 'tomatometerState': 'certified-fresh'}, 'tomatometerScoreTop': {'averageRating': '9.10', 'bandedRatingCount': '', 'certified': True, 'likedCount': 61, 'notLikedCount': None, 'ratingCount': 61, 'reviewCount': 61, 'score': '100', 'scoreSentiment': 'POSITIVE', 'scoreType': '', 'tomatometerState': 'certified-fresh'}}}, 'Rating': 'PG-13', 'Genre': ['drama'], 'Original Language': ['Persian'], 'Director': ['AsgharFarhadi'], 'Producer': ['AsgharFarhadi'], 'Writer': ['AsgharFarhadi'], 'Release Date (Theaters)': ['Dec30', '2011\\xa0limited'], 'Release Date (Streaming)': ['Feb12', '2014'], 'Box_Office': ['$331.7K'], 'Runtime': ['2h3m'], 'Studio': ['AsgharFarhadi'], 'info': \"When Nader (Payman Maadi), a bank employee, refuses to leave Tehran, his wife, Simin (Leila Hatami) sues for divorce in the hope that she can make a better life for their young daughter abroad. Needing someone to care for his senile father while he's at work, Nader hires Razieh (Sareh Bayat), a married woman whose chador hides her pregnancy. One day, after becoming angry with Razieh, Nader shoves her, and she has a miscarriage, leading Razieh's husband to take Nader to court.\", 'movie_qoutes': [['Termeh:', '\"If you don\\'t say a lie, why you should be careful?\"'], ['Termeh:', \"If you don't say a lie, why you should be careful?\"], ['Termeh:', \"If you didn't say a lie, why should you be careful?\"], ['Simin:', 'What did you do to her?'], ['Razieh:', '[pleading] By Imam-i-Hussein [later] by Imam-u-zaman.'], ['Nader:', \"What is wrong is wrong...\\nNo matter who says or where it's written.\"]], 'movie_main_casts': [[['Payman Maadi'], 'https://flxt.tmsimg.com/v9/AllPhotos/567924/567924_v9_ba.jpg'], [['Leila Hatami'], 'https://flxt.tmsimg.com/v9/AllPhotos/230676/230676_v9_ba.jpg'], [['Sareh Bayat'], 'https://flxt.tmsimg.com/v9/AllPhotos/627405/627405_v9_bb.jpg'], [['Shahab Hosseini'], 'https://flxt.tmsimg.com/v9/AllPhotos/321387/321387_v9_ba.jpg'], [[\"Merila Zare'i\"], 'https://flxt.tmsimg.com/v9/AllPhotos/567923/567923_v9_ab.jpg'], [['Babak Karimi'], 'https://flxt.tmsimg.com/v9/AllPhotos/475406/475406_v9_ba.jpg']], 'movie_other_casts': [[['Shirin Yazdanbakhsh'], '/assets/pizza-pie/images/poster_default_thumbnail.2ec144e61b4.jpg'], [['Sarina Farhadi'], 'https://flxt.tmsimg.com/v9/AllPhotos/627404/627404_v9_ba.jpg'], [['Ali-Asghar Shahbazi'], '/assets/pizza-pie/images/poster_default_thumbnail.2ec144e61b4.jpg'], [['Kimia Hosseini'], '/assets/pizza-pie/images/poster_default_thumbnail.2ec144e61b4.jpg'], [['Asghar Farhadi'], 'https://flxt.tmsimg.com/v9/AllPhotos/349998/349998_v9_bb.jpg'], [['Asghar Farhadi'], 'https://flxt.tmsimg.com/v9/AllPhotos/349998/349998_v9_bb.jpg'], [['Negar Eskandarfar'], '/assets/pizza-pie/images/poster_default_thumbnail.2ec144e61b4.jpg'], [['Asghar Farhadi'], 'https://flxt.tmsimg.com/v9/AllPhotos/349998/349998_v9_bb.jpg'], [['Sattar Oraki'], '/assets/pizza-pie/images/poster_default_thumbnail.2ec144e61b4.jpg'], [['Mahmoud Kalari'], 'https://flxt.tmsimg.com/v9/AllPhotos/464854/464854_v9_ba.jpg'], [['Hayedeh Safiyari'], 'https://flxt.tmsimg.com/v9/AllPhotos/627408/627408_v9_ba.jpg'], [['Keyvan Moghaddam'], '/assets/pizza-pie/images/poster_default_thumbnail.2ec144e61b4.jpg']]}\n"
     ]
    }
   ],
   "source": [
    "from goje_scrapper.goje import *\n",
    "\n",
    "movie_url = 'https://www.rottentomatoes.com/m/a_separation_2011'\n",
    "\n",
    "movie_scraper = GojeScraper(movie_url=movie_url)\n",
    "\n",
    "movie_scraper.extract_metadata()\n",
    "print(movie_scraper.metadata)"
   ]
  },
  {
   "cell_type": "markdown",
   "metadata": {},
   "source": [
    "### Resolve the Critic Reviews"
   ]
  },
  {
   "cell_type": "code",
   "execution_count": null,
   "metadata": {
    "pycharm": {
     "name": "#%%\n"
    }
   },
   "outputs": [],
   "source": [
    "review_list = list()\n",
    "try:\n",
    "    movie_scraper.number_of_review_pages()\n",
    "\n",
    "    for i in range(1,movie_scraper.number_of_review_pages()):\n",
    "        review_list.append(movie_scraper.extract_critic_reviews(page_number=movie_scraper.number_of_review_pages()))\n",
    "        print(\"page {0} is scrapped!\".format(i))\n",
    "except IndexError:\n",
    "    review_list.append(movie_scraper.extract_critic_reviews())\n",
    "\n",
    "print(review_list)"
   ]
  },
  {
   "cell_type": "markdown",
   "metadata": {},
   "source": [
    "### Resolve the Audience Reviews"
   ]
  },
  {
   "cell_type": "code",
   "execution_count": null,
   "metadata": {
    "pycharm": {
     "name": "#%%\n"
    }
   },
   "outputs": [],
   "source": [
    "all_audience_reviews = movie_scraper.extract_all_audience_reviews(page_number=100)\n",
    "print(all_audience_reviews)"
   ]
  },
  {
   "cell_type": "code",
   "execution_count": null,
   "metadata": {
    "pycharm": {
     "name": "#%%\n"
    }
   },
   "outputs": [],
   "source": [
    "import pymongo\n",
    "\n",
    "myclient = pymongo.MongoClient('mongodb://localhost:27017/',\n",
    "                     username='root',\n",
    "                     password='example')"
   ]
  },
  {
   "cell_type": "code",
   "execution_count": null,
   "metadata": {
    "pycharm": {
     "name": "#%%\n"
    }
   },
   "outputs": [],
   "source": [
    "print(myclient.list_database_names())\n"
   ]
  },
  {
   "cell_type": "code",
   "execution_count": null,
   "metadata": {
    "pycharm": {
     "name": "#%%\n"
    }
   },
   "outputs": [],
   "source": [
    "mydb = myclient[\"tomato\"]\n",
    "\n",
    "mycol = mydb[\"movie\"]\n"
   ]
  },
  {
   "cell_type": "code",
   "execution_count": null,
   "metadata": {
    "pycharm": {
     "name": "#%%\n"
    }
   },
   "outputs": [],
   "source": [
    "mycol"
   ]
  },
  {
   "cell_type": "code",
   "execution_count": null,
   "metadata": {
    "pycharm": {
     "name": "#%%\n"
    }
   },
   "outputs": [],
   "source": [
    "print(mydb.list_collection_names())"
   ]
  },
  {
   "cell_type": "code",
   "execution_count": null,
   "metadata": {
    "pycharm": {
     "name": "#%%\n"
    }
   },
   "outputs": [],
   "source": [
    "mydb = myclient[\"tomato\"]\n",
    "mycol = mydb[\"movie\"]\n",
    "\n",
    "mydict = { \"movie_name\": movie_url.split(\"/m/\")[1] , \"info\": movie_scraper.metadata , \"critic_reviews\": review_list , \"audience_reviews\": all_audience_reviews }\n",
    "\n",
    "x = mycol.insert_one(mydict)"
   ]
  },
  {
   "cell_type": "code",
   "execution_count": null,
   "metadata": {
    "pycharm": {
     "name": "#%%\n"
    }
   },
   "outputs": [],
   "source": [
    "mycol"
   ]
  },
  {
   "cell_type": "code",
   "execution_count": null,
   "metadata": {
    "pycharm": {
     "name": "#%%\n"
    }
   },
   "outputs": [],
   "source": [
    "len(all_audience_reviews)\n"
   ]
  },
  {
   "cell_type": "code",
   "execution_count": 10,
   "metadata": {
    "pycharm": {
     "is_executing": true,
     "name": "#%%\n"
    }
   },
   "outputs": [],
   "source": [
    "goje_jaan = GojeScraper()\n",
    "movie_list = goje_jaan.extract_movie_links(1990,1991)"
   ]
  },
  {
   "cell_type": "code",
   "execution_count": 11,
   "metadata": {
    "pycharm": {
     "name": "#%%\n"
    }
   },
   "outputs": [
    {
     "name": "stdout",
     "output_type": "stream",
     "text": [
      "https://www.rottentomatoes.com/m/1032176-goodfellas\n",
      "https://www.rottentomatoes.com/m/10009001-the_freshman\n",
      "https://www.rottentomatoes.com/m/millers_crossing\n",
      "https://www.rottentomatoes.com/m/the_witches\n",
      "https://www.rottentomatoes.com/m/arachnophobia\n",
      "https://www.rottentomatoes.com/m/metropolitan\n",
      "https://www.rottentomatoes.com/m/reversal_of_fortune\n",
      "https://www.rottentomatoes.com/m/misery\n",
      "https://www.rottentomatoes.com/m/edward_scissorhands\n",
      "https://www.rottentomatoes.com/m/hunt_for_red_october\n",
      "https://www.rottentomatoes.com/m/grifters\n",
      "https://www.rottentomatoes.com/m/la_femme_nikita\n",
      "https://www.rottentomatoes.com/m/presumed_innocent\n",
      "https://www.rottentomatoes.com/m/tremors\n",
      "https://www.rottentomatoes.com/m/dances_with_wolves\n",
      "https://www.rottentomatoes.com/m/darkman\n",
      "https://www.rottentomatoes.com/m/total_recall\n",
      "https://www.rottentomatoes.com/m/back_to_the_future_3\n",
      "https://www.rottentomatoes.com/m/1031086-ghost\n",
      "https://www.rottentomatoes.com/m/jacobs_ladder\n",
      "https://www.rottentomatoes.com/m/cry-baby\n",
      "https://www.rottentomatoes.com/m/gremlins_2_the_new_batch\n",
      "https://www.rottentomatoes.com/m/die_hard_2_1990\n",
      "https://www.rottentomatoes.com/m/godfather_part_iii\n",
      "https://www.rottentomatoes.com/m/home_alone\n",
      "https://www.rottentomatoes.com/m/wild_at_heart\n",
      "https://www.rottentomatoes.com/m/pretty_woman\n",
      "https://www.rottentomatoes.com/m/1029314-dick_tracy\n",
      "https://www.rottentomatoes.com/m/exorcist_3\n",
      "https://www.rottentomatoes.com/m/flatliners\n",
      "https://www.rottentomatoes.com/m/teenage_mutant_ninja_turtles_the_movie\n",
      "https://www.rottentomatoes.com/m/days_of_thunder\n",
      "https://www.rottentomatoes.com/m/bonfire_of_the_vanities\n"
     ]
    }
   ],
   "source": [
    "for m in movie_list:\n",
    "    print(m[2])"
   ]
  }
 ],
 "metadata": {
  "kernelspec": {
   "display_name": "Python 3",
   "language": "python",
   "name": "python3"
  },
  "language_info": {
   "codemirror_mode": {
    "name": "ipython",
    "version": 3
   },
   "file_extension": ".py",
   "mimetype": "text/x-python",
   "name": "python",
   "nbconvert_exporter": "python",
   "pygments_lexer": "ipython3",
   "version": "3.8.5"
  }
 },
 "nbformat": 4,
 "nbformat_minor": 1
}