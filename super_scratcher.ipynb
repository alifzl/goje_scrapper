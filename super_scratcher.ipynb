{
 "cells": [
  {
   "cell_type": "markdown",
   "metadata": {},
   "source": [
    "# Super Scratcher"
   ]
  },
  {
   "cell_type": "markdown",
   "metadata": {},
   "source": [
    "This is a simple (but powerful) example of grabbing all the stuff from Rotten Tomato website via given list of movies."
   ]
  },
  {
   "cell_type": "code",
   "execution_count": 1,
   "metadata": {
    "pycharm": {
     "name": "#%%\n"
    }
   },
   "outputs": [],
   "source": [
    "from goje_scrapper.goje import *\n",
    "import pymongo"
   ]
  },
  {
   "cell_type": "code",
   "execution_count": 2,
   "metadata": {
    "pycharm": {
     "name": "#%%\n"
    }
   },
   "outputs": [],
   "source": [
    "goje_jaan = GojeScraper()\n",
    "movie_list = goje_jaan.extract_movie_links(1990,1991)\n",
    "# movie_list[i][0] = movie name\n",
    "# movie_list[i][1] = movie release year\n",
    "# movie_list[i][2] = movie link"
   ]
  },
  {
   "cell_type": "code",
   "execution_count": 3,
   "metadata": {},
   "outputs": [],
   "source": [
    "myclient = pymongo.MongoClient('mongodb://localhost:27017/',\n",
    "                     username='root',\n",
    "                     password='pass')\n",
    "\n",
    "mydb = myclient[\"tomato\"]\n",
    "\n",
    "mycol = mydb[\"1990\"]"
   ]
  },
  {
   "cell_type": "code",
   "execution_count": null,
   "metadata": {},
   "outputs": [],
   "source": [
    "for m in movie_list:\n",
    "    # scrape the movie metadata\n",
    "    movie_scraper = GojeScraper(movie_url=m[2])\n",
    "    movie_scraper.extract_metadata()\n",
    "        \n",
    "    # scrape all critic reviews\n",
    "    review_list = list()\n",
    "    try:\n",
    "        movie_scraper.number_of_review_pages()\n",
    "\n",
    "        for i in range(1,movie_scraper.number_of_review_pages()):\n",
    "            review_list.append(movie_scraper.extract_critic_reviews(page_number=movie_scraper.number_of_review_pages()))\n",
    "    except IndexError:\n",
    "        review_list.append(movie_scraper.extract_critic_reviews())\n",
    "        \n",
    "    # scrape audiance reviews (1000#)    \n",
    "    all_audience_reviews = movie_scraper.extract_all_audience_reviews(page_number=100)\n",
    "    \n",
    "    print(\"scape of {} done!\".format(m[0]))\n",
    "    mydict = { \"movie_name\": m[0] , \"info\": movie_scraper.metadata , \"critic_reviews\": review_list , \"audience_reviews\": all_audience_reviews}\n",
    "    x = mycol.insert_one(mydict)\n",
    "    print(\"storing {} into DB done!\".format(m[0]))"
   ]
  },
  {
   "cell_type": "markdown",
   "metadata": {},
   "source": [
    "### Resolve the Critic Reviews"
   ]
  },
  {
   "cell_type": "code",
   "execution_count": null,
   "metadata": {
    "pycharm": {
     "name": "#%%\n"
    }
   },
   "outputs": [],
   "source": [
    "review_list = list()\n",
    "try:\n",
    "    movie_scraper.number_of_review_pages()\n",
    "\n",
    "    for i in range(1,movie_scraper.number_of_review_pages()):\n",
    "        review_list.append(movie_scraper.extract_critic_reviews(page_number=movie_scraper.number_of_review_pages()))\n",
    "        print(\"page {0} is scrapped!\".format(i))\n",
    "except IndexError:\n",
    "    review_list.append(movie_scraper.extract_critic_reviews())\n",
    "\n",
    "print(review_list)"
   ]
  },
  {
   "cell_type": "markdown",
   "metadata": {},
   "source": [
    "### Resolve the Audience Reviews"
   ]
  },
  {
   "cell_type": "code",
   "execution_count": null,
   "metadata": {
    "pycharm": {
     "name": "#%%\n"
    }
   },
   "outputs": [],
   "source": [
    "all_audience_reviews = movie_scraper.extract_all_audience_reviews(page_number=100)\n",
    "print(all_audience_reviews)"
   ]
  },
  {
   "cell_type": "code",
   "execution_count": null,
   "metadata": {
    "pycharm": {
     "name": "#%%\n"
    }
   },
   "outputs": [],
   "source": [
    "\n",
    "\n",
    "myclient = pymongo.MongoClient('mongodb://localhost:27017/',\n",
    "                     username='root',\n",
    "                     password='pass')"
   ]
  },
  {
   "cell_type": "code",
   "execution_count": null,
   "metadata": {
    "pycharm": {
     "name": "#%%\n"
    }
   },
   "outputs": [],
   "source": [
    "print(myclient.list_database_names())\n"
   ]
  },
  {
   "cell_type": "code",
   "execution_count": null,
   "metadata": {
    "pycharm": {
     "name": "#%%\n"
    }
   },
   "outputs": [],
   "source": [
    "mydb = myclient[\"tomato\"]\n",
    "\n",
    "mycol = mydb[\"movie\"]\n"
   ]
  },
  {
   "cell_type": "code",
   "execution_count": null,
   "metadata": {
    "pycharm": {
     "name": "#%%\n"
    }
   },
   "outputs": [],
   "source": [
    "mycol"
   ]
  },
  {
   "cell_type": "code",
   "execution_count": null,
   "metadata": {
    "pycharm": {
     "name": "#%%\n"
    }
   },
   "outputs": [],
   "source": [
    "print(mydb.list_collection_names())"
   ]
  },
  {
   "cell_type": "code",
   "execution_count": null,
   "metadata": {
    "pycharm": {
     "name": "#%%\n"
    }
   },
   "outputs": [],
   "source": [
    "mydb = myclient[\"tomato\"]\n",
    "mycol = mydb[\"movie\"]\n",
    "\n",
    "mydict = { \"movie_name\": movie_url.split(\"/m/\")[1] , \"info\": movie_scraper.metadata , \"critic_reviews\": review_list , \"audience_reviews\": all_audience_reviews }\n",
    "\n",
    "x = mycol.insert_one(mydict)"
   ]
  },
  {
   "cell_type": "code",
   "execution_count": null,
   "metadata": {
    "pycharm": {
     "name": "#%%\n"
    }
   },
   "outputs": [],
   "source": [
    "mycol"
   ]
  },
  {
   "cell_type": "code",
   "execution_count": null,
   "metadata": {
    "pycharm": {
     "name": "#%%\n"
    }
   },
   "outputs": [],
   "source": [
    "len(all_audience_reviews)\n"
   ]
  },
  {
   "cell_type": "code",
   "execution_count": null,
   "metadata": {
    "pycharm": {
     "name": "#%%\n"
    }
   },
   "outputs": [],
   "source": []
  },
  {
   "cell_type": "code",
   "execution_count": null,
   "metadata": {
    "pycharm": {
     "name": "#%%\n"
    }
   },
   "outputs": [],
   "source": [
    "for m in movie_list:\n",
    "    print(m[2])"
   ]
  }
 ],
 "metadata": {
  "kernelspec": {
   "display_name": "Python 3",
   "language": "python",
   "name": "python3"
  },
  "language_info": {
   "codemirror_mode": {
    "name": "ipython",
    "version": 3
   },
   "file_extension": ".py",
   "mimetype": "text/x-python",
   "name": "python",
   "nbconvert_exporter": "python",
   "pygments_lexer": "ipython3",
   "version": "3.8.5"
  }
 },
 "nbformat": 4,
 "nbformat_minor": 1
}